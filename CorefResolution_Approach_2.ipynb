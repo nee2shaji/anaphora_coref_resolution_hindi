{
  "nbformat": 4,
  "nbformat_minor": 0,
  "metadata": {
    "accelerator": "GPU",
    "colab": {
      "name": "CorefResolution_Approach 2.ipynb",
      "provenance": [],
      "collapsed_sections": []
    },
    "kernelspec": {
      "display_name": "Python 3",
      "name": "python3"
    }
  },
  "cells": [
    {
      "cell_type": "markdown",
      "metadata": {
        "id": "SCjmX4zTCkRK"
      },
      "source": [
        "## Setup & Imports\n"
      ]
    },
    {
      "cell_type": "code",
      "metadata": {
        "id": "q-YbjCkzw0yU"
      },
      "source": [
        "!pip install -q tensorflow-text\n",
        "!pip install -q tf-models-official"
      ],
      "execution_count": 1,
      "outputs": []
    },
    {
      "cell_type": "code",
      "metadata": {
        "id": "_XgTpm9ZxoN9"
      },
      "source": [
        "import os\n",
        "import shutil\n",
        "import urllib\n",
        "import numpy as np\n",
        "from keras.preprocessing.sequence import pad_sequences\n",
        "import tensorflow as tf\n",
        "import tensorflow_hub as hub\n",
        "import tensorflow_text as text\n",
        "\n",
        "import matplotlib.pyplot as plt\n",
        "\n",
        "tf.get_logger().setLevel('ERROR')"
      ],
      "execution_count": 2,
      "outputs": []
    },
    {
      "cell_type": "markdown",
      "metadata": {
        "id": "lHQ7V6mEvbpg"
      },
      "source": [
        "## Import Dataset"
      ]
    },
    {
      "cell_type": "code",
      "metadata": {
        "colab": {
          "base_uri": "https://localhost:8080/"
        },
        "id": "SEMI2gFfDxzt",
        "outputId": "9e3dbf46-5cc3-4f8f-fde7-473827f83edf"
      },
      "source": [
        "data_path = \"https://raw.githubusercontent.com/nee2shaji/IIIT_Sem4/main/train_X.txt\"\n",
        "response = urllib.request.urlopen(data_path)\n",
        "train_X = []\n",
        "for line in response:\n",
        "  train_X.append([line.decode(\"utf-8\").strip()])\n",
        "\n",
        "data_path = \"https://raw.githubusercontent.com/nee2shaji/IIIT_Sem4/main/train_y.csv\"\n",
        "response = urllib.request.urlopen(data_path)\n",
        "train_y = []\n",
        "for line in response:\n",
        "  train_y.append(line.decode(\"utf-8\").strip().split(','))\n",
        "\n",
        "# train_X =[['राम और सीता उसके लिए कलम लेने बाजार जा रहे हैं'],\n",
        "#          ['श्याम खुद कमरा साफ़ करता है'],\n",
        "#          ['राम पुस्तकालय से अपनी पुस्तक लेने जा रहे हैं'],\n",
        "#          ['मीरा ने राम को उनसे उपहार स्वीकार करने के लिए कहा'],\n",
        "#          ['जेनिफर अपना काम खुद करती हैं']]\n",
        "# train_y = [[1,0,2,1,0,0,0,0,0,0,0],\n",
        "#            [1,1,0,0,0,0],\n",
        "#            [1,0,0,1,0,0,0,0,0],\n",
        "#            [1,0,2,0,1,0,0,0,0,0],\n",
        "#            [1,1,0,0,0,0]]\n",
        "train_X = np.array(train_X)\n",
        "train_y = np.array(pad_sequences(train_y, maxlen=128, padding='pre'))\n",
        "print(train_X)\n",
        "print(train_y)\n"
      ],
      "execution_count": 3,
      "outputs": [
        {
          "output_type": "stream",
          "text": [
            "[['श्याम खुद कमरा साफ़ करता है']\n",
            " ['राम और सीता उसके लिए कलम लेने बाजार जा रहे हैं']\n",
            " ['राम पुस्तकालय से अपनी पुस्तक लेने जा रहे हैं']\n",
            " ['मीरा ने राम को उनसे उपहार स्वीकार करने के लिए कहा']\n",
            " ['कलाकारों ने स्वयं वेशभूषा बनाकर स्थानीय रंगमंच के पैसे बचाए']\n",
            " ['जेनिफर अपना काम खुद करती हैं']\n",
            " ['बच्चों ने खुद से छुट्टी की सजावट की']\n",
            " ['राम मीरा को प्रभावित करना चाहते थे , इसलिए उन्होंने खुद एक केक पकाया']\n",
            " ['रॉबर्ट एक राजा है जो सात राज्यों पर शासन करता है']\n",
            " ['रॉबर्ट केवल जुडी पर भरोसा करता है जो उसका मित्र है']\n",
            " ['मुझे टेबल पर जो किताब है वो दे दो']\n",
            " ['मारिया ने रॉबर्ट से कहा कि वह एक अच्छा इंसान है']\n",
            " ['हमारी बिल्ली हर भोजन के बाद खुद को धोती थी']\n",
            " ['रिया ने खुद को गर्म तौलिया से सुखा लिया']\n",
            " ['निया ने खुद कार पार्क की']\n",
            " ['लुसी खुश थी क्योंकि वह जिम गई थी']\n",
            " ['केंडल जिम गई थी जबकि उसका कुत्ता घर पर ही था']\n",
            " ['बच्चे भूखे थे , इसलिए मीरा ने उनके लिए खाना बनाया']\n",
            " ['कुत्ते दयालु हैं , हमें उनसे प्यार करना चाहिए']\n",
            " ['राम चाहते हैं कि श्याम उनकी परीक्षा के लिए अध्ययन करे']]\n",
            "[[0 0 0 ... 0 0 0]\n",
            " [0 0 0 ... 0 0 0]\n",
            " [0 0 0 ... 0 0 0]\n",
            " ...\n",
            " [0 0 0 ... 0 0 0]\n",
            " [0 0 0 ... 0 0 0]\n",
            " [0 0 0 ... 0 0 0]]\n"
          ],
          "name": "stdout"
        }
      ]
    },
    {
      "cell_type": "markdown",
      "metadata": {
        "id": "cRJvQ-ipwGid"
      },
      "source": [
        "## BERT Model"
      ]
    },
    {
      "cell_type": "code",
      "metadata": {
        "id": "y8_ctG55-uTX",
        "colab": {
          "base_uri": "https://localhost:8080/"
        },
        "outputId": "9ce8cf26-8e96-4594-ecfc-4bc8dab16939"
      },
      "source": [
        "\n",
        "tfhub_handle_encoder = 'https://tfhub.dev/tensorflow/bert_multi_cased_L-12_H-768_A-12/3'\n",
        "tfhub_handle_preprocess = 'https://tfhub.dev/tensorflow/bert_multi_cased_preprocess/3'\n",
        "\n",
        "print(f'BERT model selected           : {tfhub_handle_encoder}')\n",
        "print(f'Preprocess model auto-selected: {tfhub_handle_preprocess}')"
      ],
      "execution_count": 4,
      "outputs": [
        {
          "output_type": "stream",
          "text": [
            "BERT model selected           : https://tfhub.dev/tensorflow/bert_multi_cased_L-12_H-768_A-12/3\n",
            "Preprocess model auto-selected: https://tfhub.dev/tensorflow/bert_multi_cased_preprocess/3\n"
          ],
          "name": "stdout"
        }
      ]
    },
    {
      "cell_type": "code",
      "metadata": {
        "id": "0SQi-jWd_jzq"
      },
      "source": [
        "bert_preprocess_model = hub.KerasLayer(tfhub_handle_preprocess)"
      ],
      "execution_count": 5,
      "outputs": []
    },
    {
      "cell_type": "code",
      "metadata": {
        "id": "tXxYpK8ixL34"
      },
      "source": [
        "bert_model = hub.KerasLayer(tfhub_handle_encoder)"
      ],
      "execution_count": 6,
      "outputs": []
    },
    {
      "cell_type": "code",
      "metadata": {
        "id": "aksj743St9ga"
      },
      "source": [
        "def build_classifier_model():\n",
        "  text_input = tf.keras.layers.Input(shape=(), dtype=tf.string, name='text')\n",
        "  preprocessing_layer = hub.KerasLayer(tfhub_handle_preprocess, name='preprocessing')\n",
        "  encoder_inputs = preprocessing_layer(text_input)\n",
        "  encoder = hub.KerasLayer(tfhub_handle_encoder, trainable=True, name='BERT_encoder')\n",
        "  outputs = encoder(encoder_inputs)\n",
        "  net = outputs['sequence_output']\n",
        "  net = tf.keras.layers.Dropout(0.1)(net)\n",
        "  net = tf.keras.layers.LSTM(100, return_sequences=True)(net)\n",
        "  net = tf.keras.layers.Dropout(0.1)(net)\n",
        "  net = tf.keras.layers.Dense(1, activation=None)(net)\n",
        "  return tf.keras.Model(text_input, net)"
      ],
      "execution_count": 13,
      "outputs": []
    },
    {
      "cell_type": "code",
      "metadata": {
        "id": "mGMF8AZcB2Zy"
      },
      "source": [
        "classifier_model = build_classifier_model()"
      ],
      "execution_count": 14,
      "outputs": []
    },
    {
      "cell_type": "markdown",
      "metadata": {
        "id": "bXz8Vt_NwesS"
      },
      "source": [
        "## Train Model"
      ]
    },
    {
      "cell_type": "code",
      "metadata": {
        "id": "OWPOZE-L3AgE"
      },
      "source": [
        "loss = tf.keras.losses.CategoricalCrossentropy()\n",
        "metrics = tf.metrics.CategoricalCrossentropy()"
      ],
      "execution_count": 9,
      "outputs": []
    },
    {
      "cell_type": "code",
      "metadata": {
        "id": "-7GPDhR98jsD",
        "colab": {
          "base_uri": "https://localhost:8080/"
        },
        "outputId": "3beecbb4-b88d-4e01-9f1c-f33d167f7fdf"
      },
      "source": [
        "classifier_model.compile(optimizer='adam',\n",
        "                         loss=loss,\n",
        "                         metrics='accuracy')\n",
        "classifier_model.summary()"
      ],
      "execution_count": 10,
      "outputs": [
        {
          "output_type": "stream",
          "text": [
            "Model: \"model\"\n",
            "__________________________________________________________________________________________________\n",
            "Layer (type)                    Output Shape         Param #     Connected to                     \n",
            "==================================================================================================\n",
            "text (InputLayer)               [(None,)]            0                                            \n",
            "__________________________________________________________________________________________________\n",
            "preprocessing (KerasLayer)      {'input_word_ids': ( 0           text[0][0]                       \n",
            "__________________________________________________________________________________________________\n",
            "BERT_encoder (KerasLayer)       {'encoder_outputs':  177853441   preprocessing[0][0]              \n",
            "                                                                 preprocessing[0][1]              \n",
            "                                                                 preprocessing[0][2]              \n",
            "__________________________________________________________________________________________________\n",
            "dropout (Dropout)               (None, 128, 768)     0           BERT_encoder[0][14]              \n",
            "__________________________________________________________________________________________________\n",
            "lstm (LSTM)                     (None, 128, 100)     347600      dropout[0][0]                    \n",
            "__________________________________________________________________________________________________\n",
            "dropout_1 (Dropout)             (None, 128, 100)     0           lstm[0][0]                       \n",
            "__________________________________________________________________________________________________\n",
            "classifier (Dense)              (None, 128, 1)       101         dropout_1[0][0]                  \n",
            "==================================================================================================\n",
            "Total params: 178,201,142\n",
            "Trainable params: 178,201,141\n",
            "Non-trainable params: 1\n",
            "__________________________________________________________________________________________________\n"
          ],
          "name": "stdout"
        }
      ]
    },
    {
      "cell_type": "code",
      "metadata": {
        "id": "HtfDFAnN_Neu",
        "colab": {
          "base_uri": "https://localhost:8080/"
        },
        "outputId": "a1b4b4a1-d8a2-4c57-8e5c-07ab2946053a"
      },
      "source": [
        "print(f'Training model with {tfhub_handle_encoder}')\n",
        "history = classifier_model.fit(x=train_X,\n",
        "                               y=train_y,\n",
        "                               epochs=100)"
      ],
      "execution_count": 11,
      "outputs": [
        {
          "output_type": "stream",
          "text": [
            "Training model with https://tfhub.dev/tensorflow/bert_multi_cased_L-12_H-768_A-12/3\n",
            "Epoch 1/100\n",
            "1/1 [==============================] - 20s 20s/step - loss: 20.2933 - accuracy: 0.8078\n",
            "Epoch 2/100\n",
            "1/1 [==============================] - 1s 609ms/step - loss: 14.7204 - accuracy: 0.9805\n",
            "Epoch 3/100\n",
            "1/1 [==============================] - 1s 630ms/step - loss: 14.5176 - accuracy: 0.9805\n",
            "Epoch 4/100\n",
            "1/1 [==============================] - 1s 621ms/step - loss: 14.7697 - accuracy: 0.0152\n",
            "Epoch 5/100\n",
            "1/1 [==============================] - 1s 628ms/step - loss: 14.8072 - accuracy: 0.0156\n",
            "Epoch 6/100\n",
            "1/1 [==============================] - 1s 626ms/step - loss: 14.7684 - accuracy: 0.0152\n",
            "Epoch 7/100\n",
            "1/1 [==============================] - 1s 623ms/step - loss: 14.7877 - accuracy: 0.0152\n",
            "Epoch 8/100\n",
            "1/1 [==============================] - 1s 628ms/step - loss: 14.7558 - accuracy: 0.0152\n",
            "Epoch 9/100\n",
            "1/1 [==============================] - 1s 629ms/step - loss: 14.7727 - accuracy: 0.0152\n",
            "Epoch 10/100\n",
            "1/1 [==============================] - 1s 630ms/step - loss: 14.7235 - accuracy: 0.0152\n",
            "Epoch 11/100\n",
            "1/1 [==============================] - 1s 634ms/step - loss: 14.7171 - accuracy: 0.0152\n",
            "Epoch 12/100\n",
            "1/1 [==============================] - 1s 639ms/step - loss: 14.7383 - accuracy: 0.0152\n",
            "Epoch 13/100\n",
            "1/1 [==============================] - 1s 643ms/step - loss: 14.7409 - accuracy: 0.0152\n",
            "Epoch 14/100\n",
            "1/1 [==============================] - 1s 643ms/step - loss: 14.7663 - accuracy: 0.0152\n",
            "Epoch 15/100\n",
            "1/1 [==============================] - 1s 645ms/step - loss: 14.7483 - accuracy: 0.0152\n",
            "Epoch 16/100\n",
            "1/1 [==============================] - 1s 646ms/step - loss: 14.7601 - accuracy: 0.0152\n",
            "Epoch 17/100\n",
            "1/1 [==============================] - 1s 643ms/step - loss: 14.7364 - accuracy: 0.0152\n",
            "Epoch 18/100\n",
            "1/1 [==============================] - 1s 654ms/step - loss: 14.7022 - accuracy: 0.0152\n",
            "Epoch 19/100\n",
            "1/1 [==============================] - 1s 645ms/step - loss: 14.7106 - accuracy: 0.0152\n",
            "Epoch 20/100\n",
            "1/1 [==============================] - 1s 657ms/step - loss: 14.7002 - accuracy: 0.0152\n",
            "Epoch 21/100\n",
            "1/1 [==============================] - 1s 648ms/step - loss: 14.7107 - accuracy: 0.0152\n",
            "Epoch 22/100\n",
            "1/1 [==============================] - 1s 655ms/step - loss: 14.6384 - accuracy: 0.0152\n",
            "Epoch 23/100\n",
            "1/1 [==============================] - 1s 647ms/step - loss: 14.5894 - accuracy: 0.0152\n",
            "Epoch 24/100\n",
            "1/1 [==============================] - 1s 660ms/step - loss: 14.5379 - accuracy: 0.0152\n",
            "Epoch 25/100\n",
            "1/1 [==============================] - 1s 664ms/step - loss: 14.5844 - accuracy: 0.0168\n",
            "Epoch 26/100\n",
            "1/1 [==============================] - 1s 656ms/step - loss: 14.4973 - accuracy: 0.0180\n",
            "Epoch 27/100\n",
            "1/1 [==============================] - 1s 649ms/step - loss: 14.4732 - accuracy: 0.0223\n",
            "Epoch 28/100\n",
            "1/1 [==============================] - 1s 661ms/step - loss: 14.3693 - accuracy: 0.0297\n",
            "Epoch 29/100\n",
            "1/1 [==============================] - 1s 654ms/step - loss: 14.1088 - accuracy: 0.0539\n",
            "Epoch 30/100\n",
            "1/1 [==============================] - 1s 661ms/step - loss: 14.0308 - accuracy: 0.1223\n",
            "Epoch 31/100\n",
            "1/1 [==============================] - 1s 666ms/step - loss: 11.3669 - accuracy: 0.8426\n",
            "Epoch 32/100\n",
            "1/1 [==============================] - 1s 664ms/step - loss: 14.8712 - accuracy: 0.9805\n",
            "Epoch 33/100\n",
            "1/1 [==============================] - 1s 652ms/step - loss: 14.7785 - accuracy: 0.9805\n",
            "Epoch 34/100\n",
            "1/1 [==============================] - 1s 668ms/step - loss: 14.7388 - accuracy: 0.9805\n",
            "Epoch 35/100\n",
            "1/1 [==============================] - 1s 646ms/step - loss: 14.8176 - accuracy: 0.9805\n",
            "Epoch 36/100\n",
            "1/1 [==============================] - 1s 659ms/step - loss: 14.7806 - accuracy: 0.9805\n",
            "Epoch 37/100\n",
            "1/1 [==============================] - 1s 652ms/step - loss: 14.7609 - accuracy: 0.9805\n",
            "Epoch 38/100\n",
            "1/1 [==============================] - 1s 645ms/step - loss: 14.7650 - accuracy: 0.9805\n",
            "Epoch 39/100\n",
            "1/1 [==============================] - 1s 649ms/step - loss: 14.6993 - accuracy: 0.9805\n",
            "Epoch 40/100\n",
            "1/1 [==============================] - 1s 655ms/step - loss: 14.7670 - accuracy: 0.9805\n",
            "Epoch 41/100\n",
            "1/1 [==============================] - 1s 649ms/step - loss: 14.7035 - accuracy: 0.9805\n",
            "Epoch 42/100\n",
            "1/1 [==============================] - 1s 647ms/step - loss: 14.7576 - accuracy: 0.9805\n",
            "Epoch 43/100\n",
            "1/1 [==============================] - 1s 652ms/step - loss: 14.7837 - accuracy: 0.9805\n",
            "Epoch 44/100\n",
            "1/1 [==============================] - 1s 639ms/step - loss: 14.7180 - accuracy: 0.9805\n",
            "Epoch 45/100\n",
            "1/1 [==============================] - 1s 638ms/step - loss: 14.8101 - accuracy: 0.9805\n",
            "Epoch 46/100\n",
            "1/1 [==============================] - 1s 642ms/step - loss: 14.6915 - accuracy: 0.9805\n",
            "Epoch 47/100\n",
            "1/1 [==============================] - 1s 639ms/step - loss: 14.7322 - accuracy: 0.9805\n",
            "Epoch 48/100\n",
            "1/1 [==============================] - 1s 633ms/step - loss: 14.7099 - accuracy: 0.9805\n",
            "Epoch 49/100\n",
            "1/1 [==============================] - 1s 627ms/step - loss: 14.7778 - accuracy: 0.9805\n",
            "Epoch 50/100\n",
            "1/1 [==============================] - 1s 631ms/step - loss: 14.7185 - accuracy: 0.9805\n",
            "Epoch 51/100\n",
            "1/1 [==============================] - 1s 633ms/step - loss: 14.8354 - accuracy: 0.9805\n",
            "Epoch 52/100\n",
            "1/1 [==============================] - 1s 625ms/step - loss: 14.7764 - accuracy: 0.9805\n",
            "Epoch 53/100\n",
            "1/1 [==============================] - 1s 656ms/step - loss: 14.7638 - accuracy: 0.9805\n",
            "Epoch 54/100\n",
            "1/1 [==============================] - 1s 627ms/step - loss: 14.7636 - accuracy: 0.9805\n",
            "Epoch 55/100\n",
            "1/1 [==============================] - 1s 634ms/step - loss: 14.8456 - accuracy: 0.9805\n",
            "Epoch 56/100\n",
            "1/1 [==============================] - 1s 622ms/step - loss: 14.7315 - accuracy: 0.9805\n",
            "Epoch 57/100\n",
            "1/1 [==============================] - 1s 637ms/step - loss: 14.7181 - accuracy: 0.9805\n",
            "Epoch 58/100\n",
            "1/1 [==============================] - 1s 617ms/step - loss: 14.6457 - accuracy: 0.9805\n",
            "Epoch 59/100\n",
            "1/1 [==============================] - 1s 625ms/step - loss: 14.7971 - accuracy: 0.9805\n",
            "Epoch 60/100\n",
            "1/1 [==============================] - 1s 620ms/step - loss: 14.6579 - accuracy: 0.9805\n",
            "Epoch 61/100\n",
            "1/1 [==============================] - 1s 620ms/step - loss: 14.5925 - accuracy: 0.9805\n",
            "Epoch 62/100\n",
            "1/1 [==============================] - 1s 626ms/step - loss: 14.4772 - accuracy: 0.9805\n",
            "Epoch 63/100\n",
            "1/1 [==============================] - 1s 625ms/step - loss: 14.3617 - accuracy: 0.9805\n",
            "Epoch 64/100\n",
            "1/1 [==============================] - 1s 623ms/step - loss: 14.4752 - accuracy: 0.9805\n",
            "Epoch 65/100\n",
            "1/1 [==============================] - 1s 620ms/step - loss: 14.3576 - accuracy: 0.9805\n",
            "Epoch 66/100\n",
            "1/1 [==============================] - 1s 621ms/step - loss: 13.9235 - accuracy: 0.9805\n",
            "Epoch 67/100\n",
            "1/1 [==============================] - 1s 615ms/step - loss: 18.8079 - accuracy: 0.9754\n",
            "Epoch 68/100\n",
            "1/1 [==============================] - 1s 620ms/step - loss: 14.9193 - accuracy: 0.0168\n",
            "Epoch 69/100\n",
            "1/1 [==============================] - 1s 617ms/step - loss: 14.7558 - accuracy: 0.0152\n",
            "Epoch 70/100\n",
            "1/1 [==============================] - 1s 616ms/step - loss: 14.7807 - accuracy: 0.0152\n",
            "Epoch 71/100\n",
            "1/1 [==============================] - 1s 619ms/step - loss: 14.9119 - accuracy: 0.0156\n",
            "Epoch 72/100\n",
            "1/1 [==============================] - 1s 617ms/step - loss: 14.5931 - accuracy: 0.0535\n",
            "Epoch 73/100\n",
            "1/1 [==============================] - 1s 620ms/step - loss: 16.8185 - accuracy: 0.8254\n",
            "Epoch 74/100\n",
            "1/1 [==============================] - 1s 617ms/step - loss: 14.8011 - accuracy: 0.9805\n",
            "Epoch 75/100\n",
            "1/1 [==============================] - 1s 624ms/step - loss: 14.7972 - accuracy: 0.9805\n",
            "Epoch 76/100\n",
            "1/1 [==============================] - 1s 616ms/step - loss: 14.8749 - accuracy: 0.9805\n",
            "Epoch 77/100\n",
            "1/1 [==============================] - 1s 612ms/step - loss: 14.7842 - accuracy: 0.9805\n",
            "Epoch 78/100\n",
            "1/1 [==============================] - 1s 617ms/step - loss: 14.9027 - accuracy: 0.9805\n",
            "Epoch 79/100\n",
            "1/1 [==============================] - 1s 612ms/step - loss: 15.9423 - accuracy: 0.6457\n",
            "Epoch 80/100\n",
            "1/1 [==============================] - 1s 614ms/step - loss: 14.8363 - accuracy: 0.0152\n",
            "Epoch 81/100\n",
            "1/1 [==============================] - 1s 610ms/step - loss: 14.7759 - accuracy: 0.0152\n",
            "Epoch 82/100\n",
            "1/1 [==============================] - 1s 611ms/step - loss: 14.8548 - accuracy: 0.9805\n",
            "Epoch 83/100\n",
            "1/1 [==============================] - 1s 615ms/step - loss: 14.8119 - accuracy: 0.9805\n",
            "Epoch 84/100\n",
            "1/1 [==============================] - 1s 610ms/step - loss: 14.9367 - accuracy: 0.9805\n",
            "Epoch 85/100\n",
            "1/1 [==============================] - 1s 620ms/step - loss: 14.9185 - accuracy: 0.9805\n",
            "Epoch 86/100\n",
            "1/1 [==============================] - 1s 614ms/step - loss: 15.0849 - accuracy: 0.9805\n",
            "Epoch 87/100\n",
            "1/1 [==============================] - 1s 606ms/step - loss: 14.8382 - accuracy: 0.9805\n",
            "Epoch 88/100\n",
            "1/1 [==============================] - 1s 614ms/step - loss: 14.9243 - accuracy: 0.9805\n",
            "Epoch 89/100\n",
            "1/1 [==============================] - 1s 614ms/step - loss: 14.8820 - accuracy: 0.9805\n",
            "Epoch 90/100\n",
            "1/1 [==============================] - 1s 615ms/step - loss: 16.4087 - accuracy: 0.9672\n",
            "Epoch 91/100\n",
            "1/1 [==============================] - 1s 609ms/step - loss: 14.9028 - accuracy: 0.9805\n",
            "Epoch 92/100\n",
            "1/1 [==============================] - 1s 612ms/step - loss: 14.7953 - accuracy: 0.9805\n",
            "Epoch 93/100\n",
            "1/1 [==============================] - 1s 608ms/step - loss: 14.8073 - accuracy: 0.9805\n",
            "Epoch 94/100\n",
            "1/1 [==============================] - 1s 610ms/step - loss: 14.9410 - accuracy: 0.9805\n",
            "Epoch 95/100\n",
            "1/1 [==============================] - 1s 612ms/step - loss: 14.7100 - accuracy: 0.9805\n",
            "Epoch 96/100\n",
            "1/1 [==============================] - 1s 612ms/step - loss: 14.7579 - accuracy: 0.9805\n",
            "Epoch 97/100\n",
            "1/1 [==============================] - 1s 614ms/step - loss: 14.6934 - accuracy: 0.9805\n",
            "Epoch 98/100\n",
            "1/1 [==============================] - 1s 620ms/step - loss: 14.7590 - accuracy: 0.9805\n",
            "Epoch 99/100\n",
            "1/1 [==============================] - 1s 610ms/step - loss: 14.6993 - accuracy: 0.9805\n",
            "Epoch 100/100\n",
            "1/1 [==============================] - 1s 619ms/step - loss: 14.7655 - accuracy: 0.9805\n"
          ],
          "name": "stdout"
        }
      ]
    },
    {
      "cell_type": "markdown",
      "metadata": {
        "id": "uttWpgmSfzq9"
      },
      "source": [
        "### Plot the accuracy and loss"
      ]
    },
    {
      "cell_type": "code",
      "metadata": {
        "id": "fiythcODf0xo",
        "colab": {
          "base_uri": "https://localhost:8080/",
          "height": 439
        },
        "outputId": "ae43f738-445a-4bc9-cf6b-822c15c0f9c0"
      },
      "source": [
        "history_dict = history.history\n",
        "print(history_dict.keys())\n",
        "\n",
        "acc = history_dict['accuracy']\n",
        "loss = history_dict['loss']\n",
        "\n",
        "epochs = range(1, len(acc) + 1)\n",
        "fig = plt.figure(figsize=(10, 6))\n",
        "fig.tight_layout()\n",
        "\n",
        "plt.subplot(2, 1, 1)\n",
        "plt.plot(epochs, loss, 'r', label='Training loss')\n",
        "plt.title('Training loss')\n",
        "plt.ylabel('Loss')\n",
        "plt.legend()\n",
        "\n",
        "plt.subplot(2, 1, 2)\n",
        "plt.plot(epochs, acc, 'r', label='Training acc')\n",
        "plt.title('Training accuracy')\n",
        "plt.xlabel('Epochs')\n",
        "plt.ylabel('Accuracy')\n",
        "plt.legend(loc='lower right')"
      ],
      "execution_count": 12,
      "outputs": [
        {
          "output_type": "stream",
          "text": [
            "dict_keys(['loss', 'accuracy'])\n"
          ],
          "name": "stdout"
        },
        {
          "output_type": "execute_result",
          "data": {
            "text/plain": [
              "<matplotlib.legend.Legend at 0x7f9f0bf63550>"
            ]
          },
          "metadata": {
            "tags": []
          },
          "execution_count": 12
        },
        {
          "output_type": "display_data",
          "data": {
            "image/png": "[encoded data removed]",
            "text/plain": [
              "<Figure size 720x432 with 2 Axes>"
            ]
          },
          "metadata": {
            "tags": [],
            "needs_background": "light"
          }
        }
      ]
    }
  ]
}